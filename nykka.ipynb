{
 "cells": [
  {
   "cell_type": "code",
   "execution_count": 10,
   "id": "4a54f441",
   "metadata": {},
   "outputs": [],
   "source": [
    "import requests\n",
    "import pandas as pd\n",
    "from bs4 import BeautifulSoup"
   ]
  },
  {
   "cell_type": "code",
   "execution_count": 11,
   "id": "c349a0f8",
   "metadata": {},
   "outputs": [],
   "source": [
    "url='https://www.nykaa.com/skin/c/8377'"
   ]
  },
  {
   "cell_type": "code",
   "execution_count": 12,
   "id": "523a2cc5",
   "metadata": {},
   "outputs": [
    {
     "data": {
      "text/plain": [
       "<Response [200]>"
      ]
     },
     "execution_count": 12,
     "metadata": {},
     "output_type": "execute_result"
    }
   ],
   "source": [
    "page=requests.get(url)\n",
    "page"
   ]
  },
  {
   "cell_type": "code",
   "execution_count": 13,
   "id": "37df4d0c",
   "metadata": {},
   "outputs": [
    {
     "data": {
      "text/plain": [
       "401231"
      ]
     },
     "execution_count": 13,
     "metadata": {},
     "output_type": "execute_result"
    }
   ],
   "source": [
    "content= page.text\n",
    "len(content)"
   ]
  },
  {
   "cell_type": "code",
   "execution_count": 14,
   "id": "79f0bce0",
   "metadata": {},
   "outputs": [],
   "source": [
    "doc= BeautifulSoup(content,\"html.parser\")"
   ]
  },
  {
   "cell_type": "code",
   "execution_count": 24,
   "id": "6f135f40",
   "metadata": {},
   "outputs": [
    {
     "name": "stdout",
     "output_type": "stream",
     "text": [
      "Plum Green Tea Pore Cleansing Face Wash\n",
      "Nykaa Naturals Skin Potion Glow Boosting Skincare Face Oil w...\n",
      "L'Oreal Paris Glycolic Bright Skin Brightening Serum\n",
      "O3+ Brightening & Whitening Dermal Zone D-TAN Pack\n",
      "Mamaearth Ubtan Face Wash With Turmeric & Saffron For Tan Re...\n",
      "Garnier Bright Complete 30X VITAMIN C Booster Face Serum\n",
      "Nykaa SKINRX 10% Vitamin C with 5% Niacinamide Illuminate + ...\n",
      "Raaga Professional De Tan Removal Creme With Kojic & Milk(50...\n",
      "Victoria's Secret Cucumber Green Tea Body Lotion\n",
      "Nykaa Naturals Skin Secrets Exotic Indulgence Sheet Mask\n",
      "Biotique Morning Nectar Nourish & Hydrate Moisturizer\n",
      "Cetaphil Gentle Skin Cleanser\n",
      "The Ordinary Niacinamide 10% + Zinc 1%\n",
      "COSRX Advanced Snail 96 Mucin Power Essence\n",
      "Neutrogena UltraSheer Dry Touch Sunblock SPF 50+\n",
      "Ponds Super Light Gel Oil Free Moisturiser With Hyaluronic A...\n",
      "The Ordinary Glycolic Acid 7% Toning Solution\n",
      "Cetaphil Moisturising Cream\n",
      "Neutrogena Hydro Boost Water Gel\n",
      "Lakme Lumi Skin Cream\n"
     ]
    }
   ],
   "source": [
    "nametags=doc.find_all('div',{'class':'css-xrzmfa'})\n",
    "for name in nametags:\n",
    "    print(name.text)"
   ]
  },
  {
   "cell_type": "code",
   "execution_count": 25,
   "id": "eb451179",
   "metadata": {},
   "outputs": [
    {
     "name": "stdout",
     "output_type": "stream",
     "text": [
      "MRP:₹345\n",
      "MRP:₹699\n",
      "MRP:₹749\n",
      "MRP:₹830\n",
      "MRP:₹375\n",
      "MRP:₹875\n",
      "MRP:₹699\n",
      "MRP:₹1155\n",
      "MRP:\n",
      "MRP:\n",
      "MRP:₹220\n",
      "MRP:₹333\n",
      "MRP:\n",
      "MRP:\n",
      "MRP:₹675\n",
      "MRP:₹100\n",
      "MRP:\n",
      "MRP:₹508\n",
      "MRP:₹450\n",
      "MRP:₹299\n"
     ]
    }
   ],
   "source": [
    "originalprice =  doc.find_all('span',{'class':'css-17x46n5'})\n",
    "for price in originalprice:\n",
    "    print(price.text)"
   ]
  },
  {
   "cell_type": "code",
   "execution_count": 26,
   "id": "fde42cb4",
   "metadata": {},
   "outputs": [
    {
     "name": "stdout",
     "output_type": "stream",
     "text": [
      "₹242\n",
      "₹594\n",
      "₹599\n",
      "₹772\n",
      "₹334\n",
      "₹699\n",
      "₹594\n",
      "₹1040\n",
      "₹2499\n",
      "₹100\n",
      "₹161\n",
      "₹316\n",
      "₹600\n",
      "₹1450\n",
      "₹540\n",
      "₹85\n",
      "₹950\n",
      "₹483\n",
      "₹428\n",
      "₹254\n"
     ]
    }
   ],
   "source": [
    "offerprice=doc.find_all('span',{'class':'css-111z9ua'})\n",
    "for offerp in offerprice:\n",
    "    print(offerp.text)"
   ]
  },
  {
   "cell_type": "code",
   "execution_count": 27,
   "id": "67ef6ccd",
   "metadata": {},
   "outputs": [
    {
     "name": "stdout",
     "output_type": "stream",
     "text": [
      "30% Off\n",
      "15% Off\n",
      "20% Off\n",
      "7% Off\n",
      "11% Off\n",
      "20% Off\n",
      "15% Off\n",
      "10% Off\n",
      "27% Off\n",
      "5% Off\n",
      "20% Off\n",
      "15% Off\n",
      "5% Off\n",
      "5% Off\n",
      "15% Off\n"
     ]
    }
   ],
   "source": [
    "discount =  doc.find_all('span',{'class':'css-r2b2eh'})\n",
    "for dis in discount:\n",
    "    print(dis.text)"
   ]
  },
  {
   "cell_type": "code",
   "execution_count": 29,
   "id": "96bbbc02",
   "metadata": {},
   "outputs": [
    {
     "name": "stdout",
     "output_type": "stream",
     "text": [
      "( 17373 )\n",
      "( 18136 )\n",
      "( 2338 )\n",
      "( 7267 )\n",
      "( 5337 )\n",
      "( 3199 )\n",
      "( 790 )\n",
      "( 2621 )\n",
      "( 3 )\n",
      "( 175976 )\n",
      "( 26603 )\n",
      "( 55114 )\n",
      "( 9609 )\n",
      "( 7360 )\n",
      "( 75419 )\n",
      "( 89680 )\n",
      "( 4111 )\n",
      "( 27429 )\n",
      "( 35674 )\n",
      "( 14052 )\n"
     ]
    }
   ],
   "source": [
    "reviews = doc.find_all('span',{'class':'css-1j33oxj'})\n",
    "for r in reviews:\n",
    "    print(r.text)"
   ]
  },
  {
   "cell_type": "code",
   "execution_count": 30,
   "id": "44f1755c",
   "metadata": {},
   "outputs": [
    {
     "name": "stdout",
     "output_type": "stream",
     "text": [
      "Extra 5% Off\n",
      "Enjoy Free Gift\n",
      "Extra 10% Off\n",
      "Enjoy Free Gift\n",
      "Offer Available\n",
      "Buy 5 Get 5 Free\n",
      "Extra 5% Off\n",
      "Extra 5% Off\n"
     ]
    }
   ],
   "source": [
    "offer = doc.find_all('p',{'class':'css-i6xqbh'})\n",
    "for o in offer:\n",
    "    print(o.text)"
   ]
  },
  {
   "cell_type": "code",
   "execution_count": 31,
   "id": "61cbf281",
   "metadata": {},
   "outputs": [],
   "source": [
    "productDetails = []\n",
    "for name,op,ofp,d,o,r in zip(nametags,originalprice,offerprice,discount,offer,reviews):\n",
    "    productDetails.append({'Product Name' : name.text,\n",
    "                            'Origional Prize' : op.text,\n",
    "                            'Offer Prize' : ofp.text,\n",
    "                            'Discount':d.text,\n",
    "                            'Reviews' : r.text,\n",
    "                            'Offer' : o.text}) "
   ]
  },
  {
   "cell_type": "code",
   "execution_count": 33,
   "id": "789ed7e1",
   "metadata": {},
   "outputs": [
    {
     "data": {
      "text/plain": [
       "[{'Product Name': 'Nykaa Naturals Skin Potion Glow Boosting Skincare Face Oil w...',\n",
       "  'Origional Prize': 'MRP:₹699',\n",
       "  'Offer Prize': '₹594',\n",
       "  'Discount': '15% Off',\n",
       "  'Reviews': '( 18136 )',\n",
       "  'Offer': 'Enjoy Free Gift'},\n",
       " {'Product Name': 'O3+ Brightening & Whitening Dermal Zone D-TAN Pack',\n",
       "  'Origional Prize': 'MRP:₹830',\n",
       "  'Offer Prize': '₹772',\n",
       "  'Discount': '7% Off',\n",
       "  'Reviews': '( 7267 )',\n",
       "  'Offer': 'Enjoy Free Gift'}]"
      ]
     },
     "execution_count": 33,
     "metadata": {},
     "output_type": "execute_result"
    }
   ],
   "source": [
    "productDetails[1:5:2]"
   ]
  },
  {
   "cell_type": "code",
   "execution_count": 35,
   "id": "b4ff1515",
   "metadata": {},
   "outputs": [
    {
     "data": {
      "text/html": [
       "<div>\n",
       "<style scoped>\n",
       "    .dataframe tbody tr th:only-of-type {\n",
       "        vertical-align: middle;\n",
       "    }\n",
       "\n",
       "    .dataframe tbody tr th {\n",
       "        vertical-align: top;\n",
       "    }\n",
       "\n",
       "    .dataframe thead th {\n",
       "        text-align: right;\n",
       "    }\n",
       "</style>\n",
       "<table border=\"1\" class=\"dataframe\">\n",
       "  <thead>\n",
       "    <tr style=\"text-align: right;\">\n",
       "      <th></th>\n",
       "      <th>Product Name</th>\n",
       "      <th>Origional Prize</th>\n",
       "      <th>Offer Prize</th>\n",
       "      <th>Discount</th>\n",
       "      <th>Reviews</th>\n",
       "      <th>Offer</th>\n",
       "    </tr>\n",
       "  </thead>\n",
       "  <tbody>\n",
       "    <tr>\n",
       "      <th>0</th>\n",
       "      <td>Plum Green Tea Pore Cleansing Face Wash</td>\n",
       "      <td>MRP:₹345</td>\n",
       "      <td>₹242</td>\n",
       "      <td>30% Off</td>\n",
       "      <td>( 17373 )</td>\n",
       "      <td>Extra 5% Off</td>\n",
       "    </tr>\n",
       "    <tr>\n",
       "      <th>1</th>\n",
       "      <td>Nykaa Naturals Skin Potion Glow Boosting Skinc...</td>\n",
       "      <td>MRP:₹699</td>\n",
       "      <td>₹594</td>\n",
       "      <td>15% Off</td>\n",
       "      <td>( 18136 )</td>\n",
       "      <td>Enjoy Free Gift</td>\n",
       "    </tr>\n",
       "    <tr>\n",
       "      <th>2</th>\n",
       "      <td>L'Oreal Paris Glycolic Bright Skin Brightening...</td>\n",
       "      <td>MRP:₹749</td>\n",
       "      <td>₹599</td>\n",
       "      <td>20% Off</td>\n",
       "      <td>( 2338 )</td>\n",
       "      <td>Extra 10% Off</td>\n",
       "    </tr>\n",
       "    <tr>\n",
       "      <th>3</th>\n",
       "      <td>O3+ Brightening &amp; Whitening Dermal Zone D-TAN ...</td>\n",
       "      <td>MRP:₹830</td>\n",
       "      <td>₹772</td>\n",
       "      <td>7% Off</td>\n",
       "      <td>( 7267 )</td>\n",
       "      <td>Enjoy Free Gift</td>\n",
       "    </tr>\n",
       "    <tr>\n",
       "      <th>4</th>\n",
       "      <td>Mamaearth Ubtan Face Wash With Turmeric &amp; Saff...</td>\n",
       "      <td>MRP:₹375</td>\n",
       "      <td>₹334</td>\n",
       "      <td>11% Off</td>\n",
       "      <td>( 5337 )</td>\n",
       "      <td>Offer Available</td>\n",
       "    </tr>\n",
       "    <tr>\n",
       "      <th>5</th>\n",
       "      <td>Garnier Bright Complete 30X VITAMIN C Booster ...</td>\n",
       "      <td>MRP:₹875</td>\n",
       "      <td>₹699</td>\n",
       "      <td>20% Off</td>\n",
       "      <td>( 3199 )</td>\n",
       "      <td>Buy 5 Get 5 Free</td>\n",
       "    </tr>\n",
       "    <tr>\n",
       "      <th>6</th>\n",
       "      <td>Nykaa SKINRX 10% Vitamin C with 5% Niacinamide...</td>\n",
       "      <td>MRP:₹699</td>\n",
       "      <td>₹594</td>\n",
       "      <td>15% Off</td>\n",
       "      <td>( 790 )</td>\n",
       "      <td>Extra 5% Off</td>\n",
       "    </tr>\n",
       "    <tr>\n",
       "      <th>7</th>\n",
       "      <td>Raaga Professional De Tan Removal Creme With K...</td>\n",
       "      <td>MRP:₹1155</td>\n",
       "      <td>₹1040</td>\n",
       "      <td>10% Off</td>\n",
       "      <td>( 2621 )</td>\n",
       "      <td>Extra 5% Off</td>\n",
       "    </tr>\n",
       "  </tbody>\n",
       "</table>\n",
       "</div>"
      ],
      "text/plain": [
       "                                        Product Name Origional Prize  \\\n",
       "0            Plum Green Tea Pore Cleansing Face Wash        MRP:₹345   \n",
       "1  Nykaa Naturals Skin Potion Glow Boosting Skinc...        MRP:₹699   \n",
       "2  L'Oreal Paris Glycolic Bright Skin Brightening...        MRP:₹749   \n",
       "3  O3+ Brightening & Whitening Dermal Zone D-TAN ...        MRP:₹830   \n",
       "4  Mamaearth Ubtan Face Wash With Turmeric & Saff...        MRP:₹375   \n",
       "5  Garnier Bright Complete 30X VITAMIN C Booster ...        MRP:₹875   \n",
       "6  Nykaa SKINRX 10% Vitamin C with 5% Niacinamide...        MRP:₹699   \n",
       "7  Raaga Professional De Tan Removal Creme With K...       MRP:₹1155   \n",
       "\n",
       "  Offer Prize Discount    Reviews             Offer  \n",
       "0        ₹242  30% Off  ( 17373 )      Extra 5% Off  \n",
       "1        ₹594  15% Off  ( 18136 )   Enjoy Free Gift  \n",
       "2        ₹599  20% Off   ( 2338 )     Extra 10% Off  \n",
       "3        ₹772   7% Off   ( 7267 )   Enjoy Free Gift  \n",
       "4        ₹334  11% Off   ( 5337 )   Offer Available  \n",
       "5        ₹699  20% Off   ( 3199 )  Buy 5 Get 5 Free  \n",
       "6        ₹594  15% Off    ( 790 )      Extra 5% Off  \n",
       "7       ₹1040  10% Off   ( 2621 )      Extra 5% Off  "
      ]
     },
     "execution_count": 35,
     "metadata": {},
     "output_type": "execute_result"
    }
   ],
   "source": [
    "df =pd.DataFrame(productDetails,columns=['Product Name','Origional Prize','Offer Prize',\n",
    "                                          'Discount','Reviews','Offer'])\n",
    "df"
   ]
  },
  {
   "cell_type": "code",
   "execution_count": 37,
   "id": "111993d5",
   "metadata": {},
   "outputs": [],
   "source": [
    "df.to_csv('product7.csv',index=False)"
   ]
  },
  {
   "cell_type": "code",
   "execution_count": null,
   "id": "bb502aaf",
   "metadata": {},
   "outputs": [],
   "source": []
  }
 ],
 "metadata": {
  "kernelspec": {
   "display_name": "Python 3 (ipykernel)",
   "language": "python",
   "name": "python3"
  },
  "language_info": {
   "codemirror_mode": {
    "name": "ipython",
    "version": 3
   },
   "file_extension": ".py",
   "mimetype": "text/x-python",
   "name": "python",
   "nbconvert_exporter": "python",
   "pygments_lexer": "ipython3",
   "version": "3.9.13"
  }
 },
 "nbformat": 4,
 "nbformat_minor": 5
}
